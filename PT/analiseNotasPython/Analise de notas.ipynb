{
 "cells": [
  {
   "cell_type": "code",
   "execution_count": 12,
   "id": "9803e1fa",
   "metadata": {
    "ExecuteTime": {
     "end_time": "2023-04-09T22:55:10.498112Z",
     "start_time": "2023-04-09T22:55:10.482158Z"
    }
   },
   "outputs": [],
   "source": [
    "from scipy import *\n",
    "import pandas as pd"
   ]
  },
  {
   "cell_type": "code",
   "execution_count": 13,
   "id": "0be9737f",
   "metadata": {
    "ExecuteTime": {
     "end_time": "2023-04-09T22:55:11.331999Z",
     "start_time": "2023-04-09T22:55:11.319036Z"
    }
   },
   "outputs": [],
   "source": [
    "lista_notas = [8,7,7,7,7,8,5,2,4,4,10,10,10,10,4,6,7,7,7,8]\n",
    "lista_idades = [10,11,12,9,10,11,10,10,10,10,11,11,10,9,10,10,11,11,10,10]"
   ]
  },
  {
   "cell_type": "code",
   "execution_count": 37,
   "id": "b267a74d",
   "metadata": {
    "ExecuteTime": {
     "end_time": "2023-04-09T23:28:46.117333Z",
     "start_time": "2023-04-09T23:28:46.096389Z"
    }
   },
   "outputs": [],
   "source": [
    "notas = pd.DataFrame(data=lista_notas)\n",
    "idades = pd.DataFrame(data=lista_idades)"
   ]
  },
  {
   "cell_type": "code",
   "execution_count": 38,
   "id": "8a94e872",
   "metadata": {
    "ExecuteTime": {
     "end_time": "2023-04-09T23:29:12.395228Z",
     "start_time": "2023-04-09T23:29:12.358387Z"
    }
   },
   "outputs": [
    {
     "name": "stdout",
     "output_type": "stream",
     "text": [
      "A média das notas é:  0    6.9\n",
      "dtype: float64\n",
      "A mediana das notas é:  0    7.0\n",
      "dtype: float64\n",
      "A média das idades é:  0    10.3\n",
      "dtype: float64\n",
      "A mediana das idades é:  0    10.0\n",
      "dtype: float64\n"
     ]
    }
   ],
   "source": [
    "# Calculando média e mediana das notas\n",
    "print('A média das notas é: ', notas.mean())\n",
    "print('A mediana das notas é: ', notas.median())\n",
    "\n",
    "# Calculando média e mediana das notas\n",
    "print('A média das idades é: ', idades.mean())\n",
    "print('A mediana das idades é: ', idades.median())"
   ]
  },
  {
   "cell_type": "code",
   "execution_count": 43,
   "id": "cfed05dc",
   "metadata": {
    "ExecuteTime": {
     "end_time": "2023-04-09T23:37:36.962669Z",
     "start_time": "2023-04-09T23:37:36.921129Z"
    }
   },
   "outputs": [
    {
     "data": {
      "text/html": [
       "<div>\n",
       "<style scoped>\n",
       "    .dataframe tbody tr th:only-of-type {\n",
       "        vertical-align: middle;\n",
       "    }\n",
       "\n",
       "    .dataframe tbody tr th {\n",
       "        vertical-align: top;\n",
       "    }\n",
       "\n",
       "    .dataframe thead th {\n",
       "        text-align: right;\n",
       "    }\n",
       "</style>\n",
       "<table border=\"1\" class=\"dataframe\">\n",
       "  <thead>\n",
       "    <tr style=\"text-align: right;\">\n",
       "      <th></th>\n",
       "      <th>notas</th>\n",
       "      <th>idades</th>\n",
       "    </tr>\n",
       "  </thead>\n",
       "  <tbody>\n",
       "    <tr>\n",
       "      <th>0</th>\n",
       "      <td>8</td>\n",
       "      <td>10</td>\n",
       "    </tr>\n",
       "    <tr>\n",
       "      <th>1</th>\n",
       "      <td>7</td>\n",
       "      <td>11</td>\n",
       "    </tr>\n",
       "    <tr>\n",
       "      <th>2</th>\n",
       "      <td>7</td>\n",
       "      <td>12</td>\n",
       "    </tr>\n",
       "    <tr>\n",
       "      <th>3</th>\n",
       "      <td>7</td>\n",
       "      <td>9</td>\n",
       "    </tr>\n",
       "    <tr>\n",
       "      <th>4</th>\n",
       "      <td>7</td>\n",
       "      <td>10</td>\n",
       "    </tr>\n",
       "    <tr>\n",
       "      <th>5</th>\n",
       "      <td>8</td>\n",
       "      <td>11</td>\n",
       "    </tr>\n",
       "    <tr>\n",
       "      <th>6</th>\n",
       "      <td>5</td>\n",
       "      <td>10</td>\n",
       "    </tr>\n",
       "    <tr>\n",
       "      <th>7</th>\n",
       "      <td>2</td>\n",
       "      <td>10</td>\n",
       "    </tr>\n",
       "    <tr>\n",
       "      <th>8</th>\n",
       "      <td>4</td>\n",
       "      <td>10</td>\n",
       "    </tr>\n",
       "    <tr>\n",
       "      <th>9</th>\n",
       "      <td>4</td>\n",
       "      <td>10</td>\n",
       "    </tr>\n",
       "    <tr>\n",
       "      <th>10</th>\n",
       "      <td>10</td>\n",
       "      <td>11</td>\n",
       "    </tr>\n",
       "    <tr>\n",
       "      <th>11</th>\n",
       "      <td>10</td>\n",
       "      <td>11</td>\n",
       "    </tr>\n",
       "    <tr>\n",
       "      <th>12</th>\n",
       "      <td>10</td>\n",
       "      <td>10</td>\n",
       "    </tr>\n",
       "    <tr>\n",
       "      <th>13</th>\n",
       "      <td>10</td>\n",
       "      <td>9</td>\n",
       "    </tr>\n",
       "    <tr>\n",
       "      <th>14</th>\n",
       "      <td>4</td>\n",
       "      <td>10</td>\n",
       "    </tr>\n",
       "    <tr>\n",
       "      <th>15</th>\n",
       "      <td>6</td>\n",
       "      <td>10</td>\n",
       "    </tr>\n",
       "    <tr>\n",
       "      <th>16</th>\n",
       "      <td>7</td>\n",
       "      <td>11</td>\n",
       "    </tr>\n",
       "    <tr>\n",
       "      <th>17</th>\n",
       "      <td>7</td>\n",
       "      <td>11</td>\n",
       "    </tr>\n",
       "    <tr>\n",
       "      <th>18</th>\n",
       "      <td>7</td>\n",
       "      <td>10</td>\n",
       "    </tr>\n",
       "    <tr>\n",
       "      <th>19</th>\n",
       "      <td>8</td>\n",
       "      <td>10</td>\n",
       "    </tr>\n",
       "  </tbody>\n",
       "</table>\n",
       "</div>"
      ],
      "text/plain": [
       "    notas  idades\n",
       "0       8      10\n",
       "1       7      11\n",
       "2       7      12\n",
       "3       7       9\n",
       "4       7      10\n",
       "5       8      11\n",
       "6       5      10\n",
       "7       2      10\n",
       "8       4      10\n",
       "9       4      10\n",
       "10     10      11\n",
       "11     10      11\n",
       "12     10      10\n",
       "13     10       9\n",
       "14      4      10\n",
       "15      6      10\n",
       "16      7      11\n",
       "17      7      11\n",
       "18      7      10\n",
       "19      8      10"
      ]
     },
     "execution_count": 43,
     "metadata": {},
     "output_type": "execute_result"
    }
   ],
   "source": [
    "dict = {'notas': lista_notas, 'idades': lista_idades}\n",
    "df = pd.DataFrame(dict)\n",
    "df"
   ]
  },
  {
   "cell_type": "code",
   "execution_count": 65,
   "id": "db35f486",
   "metadata": {
    "ExecuteTime": {
     "end_time": "2023-04-09T23:58:13.217295Z",
     "start_time": "2023-04-09T23:58:13.201340Z"
    }
   },
   "outputs": [
    {
     "data": {
      "text/plain": [
       "5.3"
      ]
     },
     "execution_count": 65,
     "metadata": {},
     "output_type": "execute_result"
    }
   ],
   "source": [
    "# 50% inferior\n",
    "# notas\n",
    "notas_organizadas = df.notas.sort_values(ascending=True)\n",
    "notas_organizadas.iloc[0:10].mean()"
   ]
  },
  {
   "cell_type": "code",
   "execution_count": 66,
   "id": "cb5f4a66",
   "metadata": {
    "ExecuteTime": {
     "end_time": "2023-04-09T23:59:18.251590Z",
     "start_time": "2023-04-09T23:59:18.238624Z"
    }
   },
   "outputs": [
    {
     "data": {
      "text/plain": [
       "8.5"
      ]
     },
     "execution_count": 66,
     "metadata": {},
     "output_type": "execute_result"
    }
   ],
   "source": [
    "# 50% superior\n",
    "# notas\n",
    "notas_organizadas.iloc[10:20].mean()"
   ]
  },
  {
   "cell_type": "code",
   "execution_count": 67,
   "id": "25017e78",
   "metadata": {
    "ExecuteTime": {
     "end_time": "2023-04-10T00:00:43.050667Z",
     "start_time": "2023-04-10T00:00:43.027694Z"
    }
   },
   "outputs": [
    {
     "data": {
      "text/plain": [
       "9.8"
      ]
     },
     "execution_count": 67,
     "metadata": {},
     "output_type": "execute_result"
    }
   ],
   "source": [
    "# 50% inferior\n",
    "# idades\n",
    "idades_organizadas = df.idades.sort_values(ascending=True)\n",
    "idades_organizadas.iloc[0:10].mean()"
   ]
  },
  {
   "cell_type": "code",
   "execution_count": 68,
   "id": "bc8d2c83",
   "metadata": {
    "ExecuteTime": {
     "end_time": "2023-04-10T00:01:10.590463Z",
     "start_time": "2023-04-10T00:01:10.574509Z"
    }
   },
   "outputs": [
    {
     "data": {
      "text/plain": [
       "10.8"
      ]
     },
     "execution_count": 68,
     "metadata": {},
     "output_type": "execute_result"
    }
   ],
   "source": [
    "# 50% superior\n",
    "# idades\n",
    "idades_organizadas = df.idades.sort_values(ascending=True)\n",
    "idades_organizadas.iloc[10:20].mean()"
   ]
  },
  {
   "cell_type": "code",
   "execution_count": 81,
   "id": "af068dc7",
   "metadata": {
    "ExecuteTime": {
     "end_time": "2023-04-10T00:15:49.184665Z",
     "start_time": "2023-04-10T00:15:49.168671Z"
    }
   },
   "outputs": [
    {
     "data": {
      "text/plain": [
       "6.5"
      ]
     },
     "execution_count": 81,
     "metadata": {},
     "output_type": "execute_result"
    }
   ],
   "source": [
    "# Média das notas para 50% menores idades\n",
    "df_ordenado_idades = df.sort_values(by=['idades'])\n",
    "df_menores_idades = df_ordenado_idades[0:10]\n",
    "df_menores_idades.notas.mean()"
   ]
  },
  {
   "cell_type": "code",
   "execution_count": 83,
   "id": "9bf919fb",
   "metadata": {
    "ExecuteTime": {
     "end_time": "2023-04-10T00:16:26.900262Z",
     "start_time": "2023-04-10T00:16:26.878323Z"
    }
   },
   "outputs": [
    {
     "data": {
      "text/plain": [
       "7.3"
      ]
     },
     "execution_count": 83,
     "metadata": {},
     "output_type": "execute_result"
    }
   ],
   "source": [
    "# Média das notas para 50% maiores idades\n",
    "df_maiores_idades = df_ordenado_idades[10:20]\n",
    "df_maiores_idades.notas.mean()"
   ]
  },
  {
   "cell_type": "code",
   "execution_count": 88,
   "id": "4d229237",
   "metadata": {
    "ExecuteTime": {
     "end_time": "2023-04-10T00:22:21.018304Z",
     "start_time": "2023-04-10T00:22:21.005335Z"
    }
   },
   "outputs": [
    {
     "data": {
      "text/plain": [
       "32.54294583307759"
      ]
     },
     "execution_count": 88,
     "metadata": {},
     "output_type": "execute_result"
    }
   ],
   "source": [
    "# coeficiente de variação\n",
    "coef_va_notas = df.notas.std() / df.notas.mean()\n",
    "coef_va_notas * 100"
   ]
  },
  {
   "cell_type": "code",
   "execution_count": 90,
   "id": "e616aa79",
   "metadata": {
    "ExecuteTime": {
     "end_time": "2023-04-10T00:22:33.508949Z",
     "start_time": "2023-04-10T00:22:33.490963Z"
    }
   },
   "outputs": [
    {
     "data": {
      "text/plain": [
       "7.113544631699481"
      ]
     },
     "execution_count": 90,
     "metadata": {},
     "output_type": "execute_result"
    }
   ],
   "source": [
    "# coeficiente de variação\n",
    "coef_va_idades = df.idades.std() / df.idades.mean()\n",
    "coef_va_idades * 100"
   ]
  },
  {
   "cell_type": "code",
   "execution_count": 91,
   "id": "b0c570bf",
   "metadata": {
    "ExecuteTime": {
     "end_time": "2023-04-10T00:26:37.395045Z",
     "start_time": "2023-04-10T00:26:37.376069Z"
    }
   },
   "outputs": [],
   "source": [
    "from scipy import stats"
   ]
  },
  {
   "cell_type": "code",
   "execution_count": 94,
   "id": "2bf8f4a6",
   "metadata": {
    "ExecuteTime": {
     "end_time": "2023-04-10T00:28:19.275093Z",
     "start_time": "2023-04-10T00:28:19.252105Z"
    }
   },
   "outputs": [
    {
     "name": "stdout",
     "output_type": "stream",
     "text": [
      "PearsonRResult(statistic=0.1471549892294896, pvalue=0.5358452517595163)\n"
     ]
    }
   ],
   "source": [
    "# correlação\n",
    "print(stats.pearsonr(df.notas, df.idades))"
   ]
  },
  {
   "cell_type": "code",
   "execution_count": null,
   "id": "39fa6b44",
   "metadata": {},
   "outputs": [],
   "source": []
  }
 ],
 "metadata": {
  "kernelspec": {
   "display_name": "Python 3 (ipykernel)",
   "language": "python",
   "name": "python3"
  },
  "language_info": {
   "codemirror_mode": {
    "name": "ipython",
    "version": 3
   },
   "file_extension": ".py",
   "mimetype": "text/x-python",
   "name": "python",
   "nbconvert_exporter": "python",
   "pygments_lexer": "ipython3",
   "version": "3.9.12"
  },
  "toc": {
   "base_numbering": 1,
   "nav_menu": {},
   "number_sections": true,
   "sideBar": true,
   "skip_h1_title": false,
   "title_cell": "Table of Contents",
   "title_sidebar": "Contents",
   "toc_cell": false,
   "toc_position": {},
   "toc_section_display": true,
   "toc_window_display": false
  },
  "varInspector": {
   "cols": {
    "lenName": 16,
    "lenType": 16,
    "lenVar": 40
   },
   "kernels_config": {
    "python": {
     "delete_cmd_postfix": "",
     "delete_cmd_prefix": "del ",
     "library": "var_list.py",
     "varRefreshCmd": "print(var_dic_list())"
    },
    "r": {
     "delete_cmd_postfix": ") ",
     "delete_cmd_prefix": "rm(",
     "library": "var_list.r",
     "varRefreshCmd": "cat(var_dic_list()) "
    }
   },
   "types_to_exclude": [
    "module",
    "function",
    "builtin_function_or_method",
    "instance",
    "_Feature"
   ],
   "window_display": false
  }
 },
 "nbformat": 4,
 "nbformat_minor": 5
}
